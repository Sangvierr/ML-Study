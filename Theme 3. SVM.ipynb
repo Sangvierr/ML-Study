{
 "cells": [
  {
   "cell_type": "markdown",
   "metadata": {},
   "source": [
    "# Support Vector Machine (SVM)"
   ]
  },
  {
   "cell_type": "markdown",
   "metadata": {},
   "source": [
    "## [2024.04.07] 이상혁"
   ]
  },
  {
   "cell_type": "markdown",
   "metadata": {},
   "source": [
    "### 개요\n",
    "- Support Vector Machine(SVM)은 분류 성능이 뛰어나다고 알려져 있다.\n",
    "- Logistic Regression과 같은 분류 모델은 조건부 확률을 추정해서 파라미터를 결정하지만, SVM은 최적화를 통해서 분류를 진행한다는 점이 특이하다.\n",
    "- 실제로 다양한 딥러닝 모델들의 성능을 벤치마크할 때 SVM이 비교 모델로 등장하는 경우가 많다.\n",
    "- SVM을 이해하기 위해 다음 4가지 과정을 살펴보면서 모델의 원리와 활용을 알아보려고 한다."
   ]
  },
  {
   "cell_type": "markdown",
   "metadata": {},
   "source": [
    "    1️⃣ Seperating Hyperplanes\n",
    "\n",
    "    2️⃣ Maximal Margin Classifier\n",
    "    \n",
    "    3️⃣ Support Vector Classifier\n",
    "    \n",
    "    4️⃣ Support Vector Machine"
   ]
  },
  {
   "cell_type": "markdown",
   "metadata": {},
   "source": [
    "### 1. Seperating Hyperplanes"
   ]
  },
  {
   "cell_type": "markdown",
   "metadata": {},
   "source": [
    "#### 1-1. Hyperplane"
   ]
  },
  {
   "cell_type": "markdown",
   "metadata": {},
   "source": [
    "SVM은 데이터를 분류하기 위해 **분류 경계**를 찾는다. 그리고 이 분류 경계를 **Hyperplane(초평면)**이라고 부른다. 데이터가 2차원이라면 초평면은 직선이 된다. 그리고 데이터가 3차원이라면 초평면은 면이 된다. 그리고 4차원 이상부터는 이 분류 경계를 초평면이라고 부르는 것이다. 일반적으로 <span style=\"background-color:#fff5b1\"> p-차원의 초평면</span>은 다음과 같이 표현할 수 있다.\n",
    "\n",
    "$$\\beta_0 + \\beta_1 X_1  + \\beta_2 X_2 + \\cdots + \\beta_p X_p = 0 $$\n",
    "\n",
    "이는 회귀식의 형태로 데이터를 바탕으로 최적의 회귀계수를 찾는 것이다."
   ]
  },
  {
   "cell_type": "markdown",
   "metadata": {},
   "source": [
    "그리고 초평면이 0이 되는 점을 기준으로 0 이상인 부분과 0 미만인 부분으로 분류를 진행하는 것이다.\n",
    "\n",
    "예를 들어 4차원인 데이터가 있다고 하자. <span style=\"color:gray\"> (변수가 4개라는 말이다.)</span> 그러면 분류 경계면은 다음과 같다. $$\\beta_0 + \\beta_1 X_1  + \\beta_2 X_2 + \\beta_3 X_3 + \\beta_4 X_4 = 0$$\n",
    "\n",
    "그리고 $x_i = (x_{i1}, x_{i2}, x_{i3}, x_{i4})^T$를 분류 경계면에 대입하여 0 기준으로 이상인지, 미만인지를 확인한다. 0을 기준으로 이상이면 1, 미만이면 -1로 데이터를 분류할 수 있게 된다. \n",
    "\n",
    "이처럼 초평면을 기준으로 데이터를 분류할 수 있다고 해서 Seperating Hyperplanes라고 부른다."
   ]
  },
  {
   "cell_type": "markdown",
   "metadata": {},
   "source": [
    "#### 1-2. Adavantages & Disadavantages"
   ]
  },
  {
   "cell_type": "markdown",
   "metadata": {},
   "source": [
    "🤩 Adavantages \n",
    "1. 확률 추정이 없이 초평면이라는 분류 경계를 바탕으로 데이터를 쉽게 분류할 수 있다.\n",
    "\n",
    "😱 Disadavantages \n",
    "1. 데이터가 seperable한 경우만 다룬다. 분류되는 데이터들 간에 overlapping이 있으면 분류를 할 수 없다.\n",
    "2. 초평면은 유일하지 않다. 데이터를 바탕으로 회귀계수를 찾기 때문에 여러 개의 초평면이 존재할 수 있다. 이는 데이터가 seperable한 경우만 다뤄서 그렇다."
   ]
  },
  {
   "cell_type": "markdown",
   "metadata": {},
   "source": [
    "### 2. Maximal Margin Classifier"
   ]
  },
  {
   "cell_type": "markdown",
   "metadata": {},
   "source": [
    "#### 2-1. How to Maximaize the Margin?"
   ]
  },
  {
   "cell_type": "markdown",
   "metadata": {},
   "source": [
    "앞서 알아봤듯이 Hyperplanes만 사용해서 데이터를 분류하는 벙법은 분류 경계가 유일하지 않다는 단점이 있다. 이를 해결하기 위해 **Maximal Margin Classifier**라는 방법을 사용할 수 있다.\n",
    "\n",
    "이는 <span style=\"background-color:#fff5b1\"> Margin을 최대화하는 Hyperplane</span>을 찾는 것으로, Hyperplane에 제약조건이 생기기 때문에 😎**유일한 분류 경계**를 찾을 수 있게 된다. 그럼 Margin은 무엇일까?\n",
    "\n",
    "**Margin**은 데이터와 초평면 사이에 수직으로 내린 거리 중 가장 최소의 거리를 말한다. 예를 들어 2차원 데이터를 생각해보자. 데이터를 잘 분류하는 초평면인 직선을 찾기 위해서는 다음의 2가지 조건을 생각하면 된다.\n",
    "\n",
    "    1️⃣ 데이터에서 직선으로 수직으로 내린 선분의 거리가 가장 작은 직선을 찾는다.\n",
    "\n",
    "    2️⃣ 이 선분의 길이가 가장 Maximize되는 직선(초평면)이 데이터를 가장 잘 분류하는 분류 경계가 된다.\n",
    "\n",
    "이렇게 위 두 가지 조건을 바탕으로 최적화해 나가면서 찾은 초평면과 Margin은 데이터를 가장 잘 분류하는 경계라고 할 수 있다. 그리고 Margin을 최대화하는 분류 경계는 하나 뿐이기 때문에 분류 경계도 유일해진다."
   ]
  },
  {
   "cell_type": "markdown",
   "metadata": {},
   "source": [
    "#### 2-2. Support Vector"
   ]
  },
  {
   "cell_type": "markdown",
   "metadata": {},
   "source": [
    "그리고 여기서 Support Vector라는 개념이 나오게 된다. 데이터에서 초평면에 수직으로 선분을 내리며 Margin의 크기를 정하게 된다면, 최종적으로 Margin을 설정하는데 직접적으로 영향을 준 데이터 포인트가 있을 것이다. \n",
    "\n",
    "이 데이터 포인트를 **Support Vector**라고 부른다. Support Vector는 Margin 위에 걸쳐있는 데이터 포인트라고 이해하면 쉬울 것 같다.\n",
    "\n",
    "그리고 Maximal Margin Classifier의 분류 경계를 정하는 데에는 모든 Training 데이터가 필요하지는 않다. 왜냐하면 Support Vector만 Margin을 최적화하는데 영향을 주기 때문이다. \n",
    "\n",
    "그럼 이 분류 경계는 어떻게 추정하는가? 다음 수식을 보자."
   ]
  },
  {
   "cell_type": "markdown",
   "metadata": {},
   "source": [
    "$$ max_{\\beta_0, \\beta} M, \\texttt{subject to} \\ \\beta^T \\beta = 1 \\ \\texttt{and} \\ y_i(\\beta_0 + x_{i}^T\\beta) \\geq M $$"
   ]
  },
  {
   "cell_type": "markdown",
   "metadata": {},
   "source": [
    "위 수식의 의미를 하나씩 생각해보자. \n",
    "\n",
    "▶ $M$은 Margin을 뜻한다. 이제 우리는 Margin을 최대화하는 분류 경계의 **회귀 계수**를 찾으면 된다. \n",
    "\n",
    "▶ $\\beta^T \\beta = 1$은 unique한 분류 경게를 찾기 위한 **제약 조건**이다.\n",
    "\n",
    "▶ $y_i(\\beta_0 + x_{i}^T\\beta) \\geq M$은 데이터로부터 초평면까지의 **수직 거리**를 의미한다. 각 데이터 포인트에 대한 해석을 거리로 만들어준 것이다. 이는 모든 데이터 포인트들의 거리가 $M$보다 크다는 것으로 Margin 상이나 Margin 밖에 데이터 포인트들이 존재한다는 것이다. <span style=\"color:gray\"> (물론 여기서 Margin 위에 있는 데이터 포인트는 Support Vector인 점은 까먹지 말자.)</span>"
   ]
  },
  {
   "cell_type": "markdown",
   "metadata": {},
   "source": [
    "#### 2-3. Adavantages & Disadavantages"
   ]
  },
  {
   "cell_type": "markdown",
   "metadata": {},
   "source": [
    "🤩 Adavantages \n",
    "1. 거리를 바탕으로 초평면을 최적화하기 때문에 분류 경게가 유일하다.\n",
    "\n",
    "😱 Disadavantages \n",
    "1. 여전히 데이터가 seperable한 경우만 다룬다. 분류되는 데이터들 간에 overlapping이 있으면 분류를 할 수 없다.\n",
    "2. 즉, **Error**를 단 하나도 허용하지 않기 때문에 범용적인 분류 모델이 되기 어렵다. <span style=\"color:gray\"> (Data-specific한 분류 경계가 될 가능성이 높다.)</span>"
   ]
  },
  {
   "cell_type": "markdown",
   "metadata": {},
   "source": [
    "### 3. Support Vector Classifier"
   ]
  },
  {
   "cell_type": "markdown",
   "metadata": {},
   "source": [
    "#### 3-1. How to Deal with Non-Seperable Data?"
   ]
  },
  {
   "cell_type": "markdown",
   "metadata": {},
   "source": [
    "Seperating Hyperplanes 방법과 Maximal Margin Classifier는 모두 데이터가 seperable한 경우에만 사용할 수 있는 방법이다. 따라서 분류하고자 하는 클래스의 데이터가 중첩되어 있으면 분류를 할 수 없다는 단점이 있다. 이는 $M$이라는 Margin 밖으로만 데이터가 존재해야 하기 때문이다. 이를 해결하기 위해 <span style=\"background-color:#fff5b1\"> 약간의 Error를 허용하는</span> **Support Vector Classifier**를 사용할 수 있다."
   ]
  },
  {
   "cell_type": "markdown",
   "metadata": {},
   "source": [
    "#### 3-2. Support Vector Classifier"
   ]
  },
  {
   "cell_type": "markdown",
   "metadata": {},
   "source": [
    "Support Vector Classifier는 기본적으로 Maximal Margin Classifier와 동일하다. 그러나 하나의 차이가 있다면 Margin을 **Soft Margin**이라고 부르게 된다. Non-seperable한 경우까지 다루기 위해 약간의 Error를 허용하는 Margin인 것이다. 즉, 약간의 오분류를 허용하여 <span style=\"background-color:#fff5b1\"> Margin 안에 분류되지 않는 Observations</span>가 있게 되는데 이를 통해서 과적합 문제를 방지할 수 있게 된다."
   ]
  },
  {
   "cell_type": "markdown",
   "metadata": {},
   "source": [
    "Soft Margin을 추정하는 식은 다음과 같다.\n",
    "$$ max_{\\beta_0, \\beta} M, \\texttt{subject to} \\ \\beta^T \\beta = 1 \\ \\texttt{and} \\ y_i(\\beta_0 + x_{i}^T\\beta) \\geq M(1-\\epsilon_i) \\\\ \\ \\texttt{where} \\ \\epsilon_i>0 \\ \\texttt{and} \\ \\sum_{i=1}^{n}\\epsilon_i \\leq C$$ "
   ]
  },
  {
   "cell_type": "markdown",
   "metadata": {},
   "source": [
    "여기서 $\\epsilon_i$는 얼마나 다른 클래스의 Margin으로 넘어갔느냐를 나타내는 변수로 다음과 같이 정의할 수 있다.\n",
    "\n",
    "$$ \\epsilon_i = \\begin{cases} \n",
    "0 & \\text{if the $i$-th training observation is on the correct side of the margin}, \\\\\n",
    "(0, 1) & \\text{if the $i$-th training observation is on the wrong side of the margin}, \\\\\n",
    "(1, ) & \\text{if the $i$-th training observation is on the wrong side of the hyperplane}.\n",
    "\\end{cases} $$"
   ]
  },
  {
   "cell_type": "markdown",
   "metadata": {},
   "source": [
    "또한 $C$는 오분류된 데이터의 개수를 조절하는 Hyper-parameter로, $C$를 줄이면 Hyperplane을 넘어간 obs.도 줄어들기 때문에 이를 위해 Margin도 줄어들게 된다. 오분류를 줄일 수 있다는 장점도 있지만, 데이터에 예민하게 반응하기 때문에 Bias는 낮아지고, Variance는 커지게 된다. $C$를 계속 줄이다가 0이되면 Maximal Margin Classifier가 된다. "
   ]
  },
  {
   "cell_type": "markdown",
   "metadata": {},
   "source": [
    "#### 3-3. Support Vector"
   ]
  },
  {
   "cell_type": "markdown",
   "metadata": {
    "vscode": {
     "languageId": "plaintext"
    }
   },
   "source": [
    "Maximal Margin Classifier에서의 Support Vector는 Margin 위에 있는 데이터를 가르켰다. 그러나 Support Vector Classifier에서는 Margin을 넘어간 데이터가 존재한다. 따라서 <span style=\"background-color:#fff5b1\"> Margin 위와 다른 클래스의 마진으로 넘어간 데이터</span>를 Support Vector라고 한다. 따라서 Support Vector만이 Hyperplane에 영향을 준다고 할 수 있다. 특히 $C$가 커질수록 Margin이 커지게 되어 Support Vector의 개수가 많아진다. 따라서 데이터가 많아짐에 따라 모델의 예민함도 줄어들어서 Variance가 작아진다."
   ]
  },
  {
   "cell_type": "markdown",
   "metadata": {},
   "source": [
    "### 4. Support Vector Machine(SVM)"
   ]
  },
  {
   "cell_type": "markdown",
   "metadata": {},
   "source": [
    "#### 4-1. Then What is Support Vector Machine(SVM)?"
   ]
  },
  {
   "cell_type": "markdown",
   "metadata": {},
   "source": [
    "위 3가지 과정을 이해했다면 SVM을 이해하는 것은 어렵지 않다. SVM은 Support Vector Classifier를 <span style=\"background-color:#fff5b1\">비선형 결정 경계</span>로 확대한 모델이라고 할 수 있다. <span style=\"color:gray\"> (결정 경계가 비선형이기 때문에 선형 결정 경계는 당연히 포함할 수 있을 것이다.)</span>"
   ]
  },
  {
   "cell_type": "markdown",
   "metadata": {},
   "source": [
    "먼저 비선형한 데이터 Input을 선형으로 변환해준다.\n",
    "$$ h(x_i) = (h_1(x_i), h_2(x_i), ..., h_M(x_i))^T $$\n",
    "\n",
    "$h(\\cdot)$은 Basis Function으로 Non-linear한 Input Space를 Linear한 Input으로 바꿔주는 함수이다. 따라서 SVM은 Non-linear한 Input Space를 선형으로 바꾼 Support Vector Classifier라고도 볼 수 있을 것 같다.\n",
    "\n",
    "Margin을 추정하는 식은 다음과 같다.\n",
    "$$ max_{\\beta_0, \\beta} M, \\texttt{subject to} \\ \\beta^T \\beta = 1 \\ \\texttt{and} \\ y_i(\\beta_0 + h(x_{i})^T\\beta) \\geq M(1-\\epsilon_i) \\\\ \\ \\texttt{where} \\ \\epsilon_i>0 \\ \\texttt{and} \\ \\sum_{i=1}^{n}\\epsilon_i \\leq C$$\n",
    "\n",
    "하지만 우리는 $h(\\cdot)$를 알 수 없기 때문에 다음과 같이 SVM의 Margin을 계산하게 된다.\n",
    "$$ \\hat{f}(x) = \\hat{\\beta_0} + \\sum_{i \\in S} \\hat{\\alpha_i}<h(x), h(x_i)> $$\n",
    "\n",
    "여기서 $<h(x), h(x_i)>$는 두 벡터 사이의 내적을 의미한다.\n",
    "\n",
    "내적을 이용하게 되면 별도로 basis function을 모르더라도, 내적값이 어떤 **Kernel Function**을 따른다고 할 수 있다. Kernel Function $K(\\cdot, \\cdot)$은 다음과 같이 정의할 수 있다.\n",
    "$$ K(x_i, x_{i'}) = <h(x), h(x_{i'})> $$\n",
    "\n",
    "그리고 Kernel Function의 종류로는 Polynomial, Radial basis, Neural Network 등이 있다."
   ]
  },
  {
   "cell_type": "markdown",
   "metadata": {},
   "source": [
    "추가로 $C$의 의미와 역할은 Support Vector Classifier와 동일하다."
   ]
  },
  {
   "cell_type": "markdown",
   "metadata": {},
   "source": [
    "#### 4-2. Adavantages & Disadavantages"
   ]
  },
  {
   "cell_type": "markdown",
   "metadata": {},
   "source": [
    "🤩 Adavantages \n",
    "1. Kernel Function을 사용하기 때문에 고차원 데이터에서 $\\binom{n}{2}$개의 Pair를 사용해서 SVM을 계산할 수 있다."
   ]
  },
  {
   "cell_type": "markdown",
   "metadata": {},
   "source": [
    "### 5. Python Examples of SVM"
   ]
  },
  {
   "cell_type": "markdown",
   "metadata": {},
   "source": [
    "#### 5-1. Libraries"
   ]
  },
  {
   "cell_type": "code",
   "execution_count": 30,
   "metadata": {},
   "outputs": [],
   "source": [
    "import numpy as np\n",
    "import matplotlib.pyplot as plt\n",
    "from sklearn.datasets import load_iris\n",
    "from sklearn.model_selection import train_test_split\n",
    "from sklearn import svm\n",
    "from sklearn.metrics import confusion_matrix, f1_score\n",
    "\n",
    "import warnings\n",
    "warnings.filterwarnings('ignore')"
   ]
  },
  {
   "cell_type": "markdown",
   "metadata": {},
   "source": [
    "#### 5-2. Load Datasets"
   ]
  },
  {
   "cell_type": "markdown",
   "metadata": {},
   "source": [
    "```sklearn.datasets```의 ```iris``` 데이터를 사용하겠습니다. ```sklearn.datasets```에는 여러 데이터셋이 있습니다. 다음의 목록을 참고하면 됩니다.\n",
    "- ```load_boston```: 보스톤 집값 데이터\n",
    "- ```load_iris```: 아이리스 붓꽃 데이터\n",
    "- ```load_diabetes```: 당뇨병 환자 데이터\n",
    "- ```load_digits```: 손글씨 데이터\n",
    "- ```load_linnerud```: multi-output regression 용 데이터\n",
    "- ```load_wine```: 와인 데이터\n",
    "- ```load_breast_cancer:``` 위스콘신 유방암 환자 데이터"
   ]
  },
  {
   "cell_type": "code",
   "execution_count": 31,
   "metadata": {},
   "outputs": [],
   "source": [
    "iris = load_iris()"
   ]
  },
  {
   "cell_type": "markdown",
   "metadata": {},
   "source": [
    "```sklearn.datasets```의 내장 데이터는 ```sklearn.utils.Bunch```라는 자료구조를 갖고 있습니다. key와 value 형식으로 이루어져있으며, 공통적인 key는 다음과 같습니다.\n",
    "- ```data```: 샘플 데이터, Numpy 배열로 이루어져 있습니다.\n",
    "- ```target```: Label 데이터, Numpy 배열로 이루어져 있습니다.\n",
    "- ```feature_names```: Feature 데이터의 이름\n",
    "- ```target_names```: Label 데이터의 이름\n",
    "- ```DESCR```: 데이터 셋의 설명\n",
    "- ```filename```: 데이터 셋의 파일 저장 위치 (csv)"
   ]
  },
  {
   "cell_type": "code",
   "execution_count": 32,
   "metadata": {},
   "outputs": [
    {
     "data": {
      "text/plain": [
       "{'data': array([[5.1, 3.5, 1.4, 0.2],\n",
       "        [4.9, 3. , 1.4, 0.2],\n",
       "        [4.7, 3.2, 1.3, 0.2],\n",
       "        [4.6, 3.1, 1.5, 0.2],\n",
       "        [5. , 3.6, 1.4, 0.2],\n",
       "        [5.4, 3.9, 1.7, 0.4],\n",
       "        [4.6, 3.4, 1.4, 0.3],\n",
       "        [5. , 3.4, 1.5, 0.2],\n",
       "        [4.4, 2.9, 1.4, 0.2],\n",
       "        [4.9, 3.1, 1.5, 0.1],\n",
       "        [5.4, 3.7, 1.5, 0.2],\n",
       "        [4.8, 3.4, 1.6, 0.2],\n",
       "        [4.8, 3. , 1.4, 0.1],\n",
       "        [4.3, 3. , 1.1, 0.1],\n",
       "        [5.8, 4. , 1.2, 0.2],\n",
       "        [5.7, 4.4, 1.5, 0.4],\n",
       "        [5.4, 3.9, 1.3, 0.4],\n",
       "        [5.1, 3.5, 1.4, 0.3],\n",
       "        [5.7, 3.8, 1.7, 0.3],\n",
       "        [5.1, 3.8, 1.5, 0.3],\n",
       "        [5.4, 3.4, 1.7, 0.2],\n",
       "        [5.1, 3.7, 1.5, 0.4],\n",
       "        [4.6, 3.6, 1. , 0.2],\n",
       "        [5.1, 3.3, 1.7, 0.5],\n",
       "        [4.8, 3.4, 1.9, 0.2],\n",
       "        [5. , 3. , 1.6, 0.2],\n",
       "        [5. , 3.4, 1.6, 0.4],\n",
       "        [5.2, 3.5, 1.5, 0.2],\n",
       "        [5.2, 3.4, 1.4, 0.2],\n",
       "        [4.7, 3.2, 1.6, 0.2],\n",
       "        [4.8, 3.1, 1.6, 0.2],\n",
       "        [5.4, 3.4, 1.5, 0.4],\n",
       "        [5.2, 4.1, 1.5, 0.1],\n",
       "        [5.5, 4.2, 1.4, 0.2],\n",
       "        [4.9, 3.1, 1.5, 0.2],\n",
       "        [5. , 3.2, 1.2, 0.2],\n",
       "        [5.5, 3.5, 1.3, 0.2],\n",
       "        [4.9, 3.6, 1.4, 0.1],\n",
       "        [4.4, 3. , 1.3, 0.2],\n",
       "        [5.1, 3.4, 1.5, 0.2],\n",
       "        [5. , 3.5, 1.3, 0.3],\n",
       "        [4.5, 2.3, 1.3, 0.3],\n",
       "        [4.4, 3.2, 1.3, 0.2],\n",
       "        [5. , 3.5, 1.6, 0.6],\n",
       "        [5.1, 3.8, 1.9, 0.4],\n",
       "        [4.8, 3. , 1.4, 0.3],\n",
       "        [5.1, 3.8, 1.6, 0.2],\n",
       "        [4.6, 3.2, 1.4, 0.2],\n",
       "        [5.3, 3.7, 1.5, 0.2],\n",
       "        [5. , 3.3, 1.4, 0.2],\n",
       "        [7. , 3.2, 4.7, 1.4],\n",
       "        [6.4, 3.2, 4.5, 1.5],\n",
       "        [6.9, 3.1, 4.9, 1.5],\n",
       "        [5.5, 2.3, 4. , 1.3],\n",
       "        [6.5, 2.8, 4.6, 1.5],\n",
       "        [5.7, 2.8, 4.5, 1.3],\n",
       "        [6.3, 3.3, 4.7, 1.6],\n",
       "        [4.9, 2.4, 3.3, 1. ],\n",
       "        [6.6, 2.9, 4.6, 1.3],\n",
       "        [5.2, 2.7, 3.9, 1.4],\n",
       "        [5. , 2. , 3.5, 1. ],\n",
       "        [5.9, 3. , 4.2, 1.5],\n",
       "        [6. , 2.2, 4. , 1. ],\n",
       "        [6.1, 2.9, 4.7, 1.4],\n",
       "        [5.6, 2.9, 3.6, 1.3],\n",
       "        [6.7, 3.1, 4.4, 1.4],\n",
       "        [5.6, 3. , 4.5, 1.5],\n",
       "        [5.8, 2.7, 4.1, 1. ],\n",
       "        [6.2, 2.2, 4.5, 1.5],\n",
       "        [5.6, 2.5, 3.9, 1.1],\n",
       "        [5.9, 3.2, 4.8, 1.8],\n",
       "        [6.1, 2.8, 4. , 1.3],\n",
       "        [6.3, 2.5, 4.9, 1.5],\n",
       "        [6.1, 2.8, 4.7, 1.2],\n",
       "        [6.4, 2.9, 4.3, 1.3],\n",
       "        [6.6, 3. , 4.4, 1.4],\n",
       "        [6.8, 2.8, 4.8, 1.4],\n",
       "        [6.7, 3. , 5. , 1.7],\n",
       "        [6. , 2.9, 4.5, 1.5],\n",
       "        [5.7, 2.6, 3.5, 1. ],\n",
       "        [5.5, 2.4, 3.8, 1.1],\n",
       "        [5.5, 2.4, 3.7, 1. ],\n",
       "        [5.8, 2.7, 3.9, 1.2],\n",
       "        [6. , 2.7, 5.1, 1.6],\n",
       "        [5.4, 3. , 4.5, 1.5],\n",
       "        [6. , 3.4, 4.5, 1.6],\n",
       "        [6.7, 3.1, 4.7, 1.5],\n",
       "        [6.3, 2.3, 4.4, 1.3],\n",
       "        [5.6, 3. , 4.1, 1.3],\n",
       "        [5.5, 2.5, 4. , 1.3],\n",
       "        [5.5, 2.6, 4.4, 1.2],\n",
       "        [6.1, 3. , 4.6, 1.4],\n",
       "        [5.8, 2.6, 4. , 1.2],\n",
       "        [5. , 2.3, 3.3, 1. ],\n",
       "        [5.6, 2.7, 4.2, 1.3],\n",
       "        [5.7, 3. , 4.2, 1.2],\n",
       "        [5.7, 2.9, 4.2, 1.3],\n",
       "        [6.2, 2.9, 4.3, 1.3],\n",
       "        [5.1, 2.5, 3. , 1.1],\n",
       "        [5.7, 2.8, 4.1, 1.3],\n",
       "        [6.3, 3.3, 6. , 2.5],\n",
       "        [5.8, 2.7, 5.1, 1.9],\n",
       "        [7.1, 3. , 5.9, 2.1],\n",
       "        [6.3, 2.9, 5.6, 1.8],\n",
       "        [6.5, 3. , 5.8, 2.2],\n",
       "        [7.6, 3. , 6.6, 2.1],\n",
       "        [4.9, 2.5, 4.5, 1.7],\n",
       "        [7.3, 2.9, 6.3, 1.8],\n",
       "        [6.7, 2.5, 5.8, 1.8],\n",
       "        [7.2, 3.6, 6.1, 2.5],\n",
       "        [6.5, 3.2, 5.1, 2. ],\n",
       "        [6.4, 2.7, 5.3, 1.9],\n",
       "        [6.8, 3. , 5.5, 2.1],\n",
       "        [5.7, 2.5, 5. , 2. ],\n",
       "        [5.8, 2.8, 5.1, 2.4],\n",
       "        [6.4, 3.2, 5.3, 2.3],\n",
       "        [6.5, 3. , 5.5, 1.8],\n",
       "        [7.7, 3.8, 6.7, 2.2],\n",
       "        [7.7, 2.6, 6.9, 2.3],\n",
       "        [6. , 2.2, 5. , 1.5],\n",
       "        [6.9, 3.2, 5.7, 2.3],\n",
       "        [5.6, 2.8, 4.9, 2. ],\n",
       "        [7.7, 2.8, 6.7, 2. ],\n",
       "        [6.3, 2.7, 4.9, 1.8],\n",
       "        [6.7, 3.3, 5.7, 2.1],\n",
       "        [7.2, 3.2, 6. , 1.8],\n",
       "        [6.2, 2.8, 4.8, 1.8],\n",
       "        [6.1, 3. , 4.9, 1.8],\n",
       "        [6.4, 2.8, 5.6, 2.1],\n",
       "        [7.2, 3. , 5.8, 1.6],\n",
       "        [7.4, 2.8, 6.1, 1.9],\n",
       "        [7.9, 3.8, 6.4, 2. ],\n",
       "        [6.4, 2.8, 5.6, 2.2],\n",
       "        [6.3, 2.8, 5.1, 1.5],\n",
       "        [6.1, 2.6, 5.6, 1.4],\n",
       "        [7.7, 3. , 6.1, 2.3],\n",
       "        [6.3, 3.4, 5.6, 2.4],\n",
       "        [6.4, 3.1, 5.5, 1.8],\n",
       "        [6. , 3. , 4.8, 1.8],\n",
       "        [6.9, 3.1, 5.4, 2.1],\n",
       "        [6.7, 3.1, 5.6, 2.4],\n",
       "        [6.9, 3.1, 5.1, 2.3],\n",
       "        [5.8, 2.7, 5.1, 1.9],\n",
       "        [6.8, 3.2, 5.9, 2.3],\n",
       "        [6.7, 3.3, 5.7, 2.5],\n",
       "        [6.7, 3. , 5.2, 2.3],\n",
       "        [6.3, 2.5, 5. , 1.9],\n",
       "        [6.5, 3. , 5.2, 2. ],\n",
       "        [6.2, 3.4, 5.4, 2.3],\n",
       "        [5.9, 3. , 5.1, 1.8]]),\n",
       " 'target': array([0, 0, 0, 0, 0, 0, 0, 0, 0, 0, 0, 0, 0, 0, 0, 0, 0, 0, 0, 0, 0, 0,\n",
       "        0, 0, 0, 0, 0, 0, 0, 0, 0, 0, 0, 0, 0, 0, 0, 0, 0, 0, 0, 0, 0, 0,\n",
       "        0, 0, 0, 0, 0, 0, 1, 1, 1, 1, 1, 1, 1, 1, 1, 1, 1, 1, 1, 1, 1, 1,\n",
       "        1, 1, 1, 1, 1, 1, 1, 1, 1, 1, 1, 1, 1, 1, 1, 1, 1, 1, 1, 1, 1, 1,\n",
       "        1, 1, 1, 1, 1, 1, 1, 1, 1, 1, 1, 1, 2, 2, 2, 2, 2, 2, 2, 2, 2, 2,\n",
       "        2, 2, 2, 2, 2, 2, 2, 2, 2, 2, 2, 2, 2, 2, 2, 2, 2, 2, 2, 2, 2, 2,\n",
       "        2, 2, 2, 2, 2, 2, 2, 2, 2, 2, 2, 2, 2, 2, 2, 2, 2, 2]),\n",
       " 'frame': None,\n",
       " 'target_names': array(['setosa', 'versicolor', 'virginica'], dtype='<U10'),\n",
       " 'DESCR': '.. _iris_dataset:\\n\\nIris plants dataset\\n--------------------\\n\\n**Data Set Characteristics:**\\n\\n    :Number of Instances: 150 (50 in each of three classes)\\n    :Number of Attributes: 4 numeric, predictive attributes and the class\\n    :Attribute Information:\\n        - sepal length in cm\\n        - sepal width in cm\\n        - petal length in cm\\n        - petal width in cm\\n        - class:\\n                - Iris-Setosa\\n                - Iris-Versicolour\\n                - Iris-Virginica\\n                \\n    :Summary Statistics:\\n\\n    ============== ==== ==== ======= ===== ====================\\n                    Min  Max   Mean    SD   Class Correlation\\n    ============== ==== ==== ======= ===== ====================\\n    sepal length:   4.3  7.9   5.84   0.83    0.7826\\n    sepal width:    2.0  4.4   3.05   0.43   -0.4194\\n    petal length:   1.0  6.9   3.76   1.76    0.9490  (high!)\\n    petal width:    0.1  2.5   1.20   0.76    0.9565  (high!)\\n    ============== ==== ==== ======= ===== ====================\\n\\n    :Missing Attribute Values: None\\n    :Class Distribution: 33.3% for each of 3 classes.\\n    :Creator: R.A. Fisher\\n    :Donor: Michael Marshall (MARSHALL%PLU@io.arc.nasa.gov)\\n    :Date: July, 1988\\n\\nThe famous Iris database, first used by Sir R.A. Fisher. The dataset is taken\\nfrom Fisher\\'s paper. Note that it\\'s the same as in R, but not as in the UCI\\nMachine Learning Repository, which has two wrong data points.\\n\\nThis is perhaps the best known database to be found in the\\npattern recognition literature.  Fisher\\'s paper is a classic in the field and\\nis referenced frequently to this day.  (See Duda & Hart, for example.)  The\\ndata set contains 3 classes of 50 instances each, where each class refers to a\\ntype of iris plant.  One class is linearly separable from the other 2; the\\nlatter are NOT linearly separable from each other.\\n\\n.. topic:: References\\n\\n   - Fisher, R.A. \"The use of multiple measurements in taxonomic problems\"\\n     Annual Eugenics, 7, Part II, 179-188 (1936); also in \"Contributions to\\n     Mathematical Statistics\" (John Wiley, NY, 1950).\\n   - Duda, R.O., & Hart, P.E. (1973) Pattern Classification and Scene Analysis.\\n     (Q327.D83) John Wiley & Sons.  ISBN 0-471-22361-1.  See page 218.\\n   - Dasarathy, B.V. (1980) \"Nosing Around the Neighborhood: A New System\\n     Structure and Classification Rule for Recognition in Partially Exposed\\n     Environments\".  IEEE Transactions on Pattern Analysis and Machine\\n     Intelligence, Vol. PAMI-2, No. 1, 67-71.\\n   - Gates, G.W. (1972) \"The Reduced Nearest Neighbor Rule\".  IEEE Transactions\\n     on Information Theory, May 1972, 431-433.\\n   - See also: 1988 MLC Proceedings, 54-64.  Cheeseman et al\"s AUTOCLASS II\\n     conceptual clustering system finds 3 classes in the data.\\n   - Many, many more ...',\n",
       " 'feature_names': ['sepal length (cm)',\n",
       "  'sepal width (cm)',\n",
       "  'petal length (cm)',\n",
       "  'petal width (cm)'],\n",
       " 'filename': 'iris.csv',\n",
       " 'data_module': 'sklearn.datasets.data'}"
      ]
     },
     "execution_count": 32,
     "metadata": {},
     "output_type": "execute_result"
    }
   ],
   "source": [
    "iris"
   ]
  },
  {
   "cell_type": "code",
   "execution_count": 33,
   "metadata": {},
   "outputs": [
    {
     "data": {
      "text/plain": [
       "['sepal length (cm)',\n",
       " 'sepal width (cm)',\n",
       " 'petal length (cm)',\n",
       " 'petal width (cm)']"
      ]
     },
     "execution_count": 33,
     "metadata": {},
     "output_type": "execute_result"
    }
   ],
   "source": [
    "# X 변수 이름\n",
    "iris['feature_names']"
   ]
  },
  {
   "cell_type": "code",
   "execution_count": 34,
   "metadata": {},
   "outputs": [
    {
     "name": "stdout",
     "output_type": "stream",
     "text": [
      "['setosa' 'versicolor' 'virginica']\n",
      "(array([0, 1, 2]), array([50, 50, 50], dtype=int64))\n"
     ]
    }
   ],
   "source": [
    "# Y 변수 이름과 레이블 확인\n",
    "print(iris['target_names'])\n",
    "print(np.unique(iris['target'], return_counts = True))"
   ]
  },
  {
   "cell_type": "markdown",
   "metadata": {},
   "source": [
    "X 변수 4개에 Target은 3개입니다. 각 레이블마다 50개의 데이터가 있어서 클래스는 불균형 문제는 없습니다."
   ]
  },
  {
   "cell_type": "markdown",
   "metadata": {},
   "source": [
    "#### 5-3. Model Training and Prediction "
   ]
  },
  {
   "cell_type": "markdown",
   "metadata": {},
   "source": [
    "SVM 모델 학습을 위해 먼저 앞에서부터 2개의 변수만 활용해보겠습니다."
   ]
  },
  {
   "cell_type": "code",
   "execution_count": 35,
   "metadata": {},
   "outputs": [],
   "source": [
    "# 데이터와 레이블 정의\n",
    "X = iris.data[:, :2]\n",
    "y = iris.target"
   ]
  },
  {
   "cell_type": "code",
   "execution_count": 36,
   "metadata": {},
   "outputs": [],
   "source": [
    "# 학습용, 평가용 데이터 분리\n",
    "X_train, X_test, y_train, y_test = train_test_split(X, y, random_state=123, test_size=0.2)"
   ]
  },
  {
   "cell_type": "code",
   "execution_count": 37,
   "metadata": {},
   "outputs": [
    {
     "data": {
      "text/html": [
       "<style>#sk-container-id-5 {color: black;}#sk-container-id-5 pre{padding: 0;}#sk-container-id-5 div.sk-toggleable {background-color: white;}#sk-container-id-5 label.sk-toggleable__label {cursor: pointer;display: block;width: 100%;margin-bottom: 0;padding: 0.3em;box-sizing: border-box;text-align: center;}#sk-container-id-5 label.sk-toggleable__label-arrow:before {content: \"▸\";float: left;margin-right: 0.25em;color: #696969;}#sk-container-id-5 label.sk-toggleable__label-arrow:hover:before {color: black;}#sk-container-id-5 div.sk-estimator:hover label.sk-toggleable__label-arrow:before {color: black;}#sk-container-id-5 div.sk-toggleable__content {max-height: 0;max-width: 0;overflow: hidden;text-align: left;background-color: #f0f8ff;}#sk-container-id-5 div.sk-toggleable__content pre {margin: 0.2em;color: black;border-radius: 0.25em;background-color: #f0f8ff;}#sk-container-id-5 input.sk-toggleable__control:checked~div.sk-toggleable__content {max-height: 200px;max-width: 100%;overflow: auto;}#sk-container-id-5 input.sk-toggleable__control:checked~label.sk-toggleable__label-arrow:before {content: \"▾\";}#sk-container-id-5 div.sk-estimator input.sk-toggleable__control:checked~label.sk-toggleable__label {background-color: #d4ebff;}#sk-container-id-5 div.sk-label input.sk-toggleable__control:checked~label.sk-toggleable__label {background-color: #d4ebff;}#sk-container-id-5 input.sk-hidden--visually {border: 0;clip: rect(1px 1px 1px 1px);clip: rect(1px, 1px, 1px, 1px);height: 1px;margin: -1px;overflow: hidden;padding: 0;position: absolute;width: 1px;}#sk-container-id-5 div.sk-estimator {font-family: monospace;background-color: #f0f8ff;border: 1px dotted black;border-radius: 0.25em;box-sizing: border-box;margin-bottom: 0.5em;}#sk-container-id-5 div.sk-estimator:hover {background-color: #d4ebff;}#sk-container-id-5 div.sk-parallel-item::after {content: \"\";width: 100%;border-bottom: 1px solid gray;flex-grow: 1;}#sk-container-id-5 div.sk-label:hover label.sk-toggleable__label {background-color: #d4ebff;}#sk-container-id-5 div.sk-serial::before {content: \"\";position: absolute;border-left: 1px solid gray;box-sizing: border-box;top: 0;bottom: 0;left: 50%;z-index: 0;}#sk-container-id-5 div.sk-serial {display: flex;flex-direction: column;align-items: center;background-color: white;padding-right: 0.2em;padding-left: 0.2em;position: relative;}#sk-container-id-5 div.sk-item {position: relative;z-index: 1;}#sk-container-id-5 div.sk-parallel {display: flex;align-items: stretch;justify-content: center;background-color: white;position: relative;}#sk-container-id-5 div.sk-item::before, #sk-container-id-5 div.sk-parallel-item::before {content: \"\";position: absolute;border-left: 1px solid gray;box-sizing: border-box;top: 0;bottom: 0;left: 50%;z-index: -1;}#sk-container-id-5 div.sk-parallel-item {display: flex;flex-direction: column;z-index: 1;position: relative;background-color: white;}#sk-container-id-5 div.sk-parallel-item:first-child::after {align-self: flex-end;width: 50%;}#sk-container-id-5 div.sk-parallel-item:last-child::after {align-self: flex-start;width: 50%;}#sk-container-id-5 div.sk-parallel-item:only-child::after {width: 0;}#sk-container-id-5 div.sk-dashed-wrapped {border: 1px dashed gray;margin: 0 0.4em 0.5em 0.4em;box-sizing: border-box;padding-bottom: 0.4em;background-color: white;}#sk-container-id-5 div.sk-label label {font-family: monospace;font-weight: bold;display: inline-block;line-height: 1.2em;}#sk-container-id-5 div.sk-label-container {text-align: center;}#sk-container-id-5 div.sk-container {/* jupyter's `normalize.less` sets `[hidden] { display: none; }` but bootstrap.min.css set `[hidden] { display: none !important; }` so we also need the `!important` here to be able to override the default hidden behavior on the sphinx rendered scikit-learn.org. See: https://github.com/scikit-learn/scikit-learn/issues/21755 */display: inline-block !important;position: relative;}#sk-container-id-5 div.sk-text-repr-fallback {display: none;}</style><div id=\"sk-container-id-5\" class=\"sk-top-container\"><div class=\"sk-text-repr-fallback\"><pre>SVC(C=1, kernel=&#x27;linear&#x27;)</pre><b>In a Jupyter environment, please rerun this cell to show the HTML representation or trust the notebook. <br />On GitHub, the HTML representation is unable to render, please try loading this page with nbviewer.org.</b></div><div class=\"sk-container\" hidden><div class=\"sk-item\"><div class=\"sk-estimator sk-toggleable\"><input class=\"sk-toggleable__control sk-hidden--visually\" id=\"sk-estimator-id-5\" type=\"checkbox\" checked><label for=\"sk-estimator-id-5\" class=\"sk-toggleable__label sk-toggleable__label-arrow\">SVC</label><div class=\"sk-toggleable__content\"><pre>SVC(C=1, kernel=&#x27;linear&#x27;)</pre></div></div></div></div></div>"
      ],
      "text/plain": [
       "SVC(C=1, kernel='linear')"
      ]
     },
     "execution_count": 37,
     "metadata": {},
     "output_type": "execute_result"
    }
   ],
   "source": [
    "# SVM 모델 정의\n",
    "C = 1            \n",
    "lin_SVM = svm.SVC(kernel = \"linear\", C=C)\n",
    "\n",
    "# 모델 학습\n",
    "lin_SVM.fit(X_train, y_train)"
   ]
  },
  {
   "cell_type": "markdown",
   "metadata": {},
   "source": [
    "모델과 관련된 파라미터는 다음과 같습니다.\n",
    "- 하이퍼파라미터인 $C$는 1로 설정했습니다. 원래는 Cross Validation 등으로 탐색해야 하지만 데이터셋의 크기도 작기 때문에 무난한 1로 설정했습니다.\n",
    "- ```SVC```는 Classification, ```SVR```은 Regression입니다. 지금은 3개의 label을 분류해야 하기 때문에 ```SVC```를 사용합니다.\n",
    "- 앞서 4-1절에서 SVM의 basis function에는 Polynomial, Radial basis, Neural Network 등이 있다고 했습니다. 여기서는 ```Linear```를 사용합니다.\n",
    "\n",
    "🧐 SVC라는 이름에서도 알 수 있듯이 의 커널을 ```Linear```로 설정하면 Support Vector Classifier, 다른 비선형 커널을 설정하면 Support Vector Machine이라고 이해할 수 있습니다. 이어서 다른 커널 함수를 계속해서 사용해보겠습니다."
   ]
  },
  {
   "cell_type": "code",
   "execution_count": 38,
   "metadata": {},
   "outputs": [],
   "source": [
    "# 예측값 확인\n",
    "y_pred_lin = lin_SVM.predict(X_test)"
   ]
  },
  {
   "cell_type": "code",
   "execution_count": 39,
   "metadata": {},
   "outputs": [
    {
     "data": {
      "text/plain": [
       "array([[13,  0,  0],\n",
       "       [ 0,  6,  0],\n",
       "       [ 0,  4,  7]], dtype=int64)"
      ]
     },
     "execution_count": 39,
     "metadata": {},
     "output_type": "execute_result"
    }
   ],
   "source": [
    "# Confusion Matrix 확인\n",
    "confusion_matrix(y_test, y_pred_lin)    "
   ]
  },
  {
   "cell_type": "code",
   "execution_count": 40,
   "metadata": {},
   "outputs": [
    {
     "data": {
      "text/plain": [
       "0.8425925925925926"
      ]
     },
     "execution_count": 40,
     "metadata": {},
     "output_type": "execute_result"
    }
   ],
   "source": [
    "# f1 score 확인\n",
    "f1_score(y_test, y_pred_lin, average='macro')  "
   ]
  },
  {
   "cell_type": "markdown",
   "metadata": {},
   "source": [
    "test 결과 4개의 오분류만 존재하고 모두 잘 분류하고 있습니다."
   ]
  },
  {
   "cell_type": "markdown",
   "metadata": {},
   "source": [
    "#### 5-4. Another Basis Function"
   ]
  },
  {
   "cell_type": "markdown",
   "metadata": {},
   "source": [
    "이번에는 Basis Function을 Radial basis로 바꿔서 학습 및 예측을 진행해보겠습니다."
   ]
  },
  {
   "cell_type": "code",
   "execution_count": 41,
   "metadata": {},
   "outputs": [],
   "source": [
    "# 모델 정의\n",
    "rbf_SVM = svm.SVC(kernel = 'rbf', gamma = 0.7, C=C, max_iter = 10000) "
   ]
  },
  {
   "cell_type": "markdown",
   "metadata": {},
   "source": [
    "모델과 관련된 파라미터는 다음과 같습니다.\n",
    "- Radial Basis Function은 gamma라는 하이퍼파라미터가 있습니다."
   ]
  },
  {
   "cell_type": "code",
   "execution_count": 42,
   "metadata": {},
   "outputs": [
    {
     "data": {
      "text/html": [
       "<style>#sk-container-id-6 {color: black;}#sk-container-id-6 pre{padding: 0;}#sk-container-id-6 div.sk-toggleable {background-color: white;}#sk-container-id-6 label.sk-toggleable__label {cursor: pointer;display: block;width: 100%;margin-bottom: 0;padding: 0.3em;box-sizing: border-box;text-align: center;}#sk-container-id-6 label.sk-toggleable__label-arrow:before {content: \"▸\";float: left;margin-right: 0.25em;color: #696969;}#sk-container-id-6 label.sk-toggleable__label-arrow:hover:before {color: black;}#sk-container-id-6 div.sk-estimator:hover label.sk-toggleable__label-arrow:before {color: black;}#sk-container-id-6 div.sk-toggleable__content {max-height: 0;max-width: 0;overflow: hidden;text-align: left;background-color: #f0f8ff;}#sk-container-id-6 div.sk-toggleable__content pre {margin: 0.2em;color: black;border-radius: 0.25em;background-color: #f0f8ff;}#sk-container-id-6 input.sk-toggleable__control:checked~div.sk-toggleable__content {max-height: 200px;max-width: 100%;overflow: auto;}#sk-container-id-6 input.sk-toggleable__control:checked~label.sk-toggleable__label-arrow:before {content: \"▾\";}#sk-container-id-6 div.sk-estimator input.sk-toggleable__control:checked~label.sk-toggleable__label {background-color: #d4ebff;}#sk-container-id-6 div.sk-label input.sk-toggleable__control:checked~label.sk-toggleable__label {background-color: #d4ebff;}#sk-container-id-6 input.sk-hidden--visually {border: 0;clip: rect(1px 1px 1px 1px);clip: rect(1px, 1px, 1px, 1px);height: 1px;margin: -1px;overflow: hidden;padding: 0;position: absolute;width: 1px;}#sk-container-id-6 div.sk-estimator {font-family: monospace;background-color: #f0f8ff;border: 1px dotted black;border-radius: 0.25em;box-sizing: border-box;margin-bottom: 0.5em;}#sk-container-id-6 div.sk-estimator:hover {background-color: #d4ebff;}#sk-container-id-6 div.sk-parallel-item::after {content: \"\";width: 100%;border-bottom: 1px solid gray;flex-grow: 1;}#sk-container-id-6 div.sk-label:hover label.sk-toggleable__label {background-color: #d4ebff;}#sk-container-id-6 div.sk-serial::before {content: \"\";position: absolute;border-left: 1px solid gray;box-sizing: border-box;top: 0;bottom: 0;left: 50%;z-index: 0;}#sk-container-id-6 div.sk-serial {display: flex;flex-direction: column;align-items: center;background-color: white;padding-right: 0.2em;padding-left: 0.2em;position: relative;}#sk-container-id-6 div.sk-item {position: relative;z-index: 1;}#sk-container-id-6 div.sk-parallel {display: flex;align-items: stretch;justify-content: center;background-color: white;position: relative;}#sk-container-id-6 div.sk-item::before, #sk-container-id-6 div.sk-parallel-item::before {content: \"\";position: absolute;border-left: 1px solid gray;box-sizing: border-box;top: 0;bottom: 0;left: 50%;z-index: -1;}#sk-container-id-6 div.sk-parallel-item {display: flex;flex-direction: column;z-index: 1;position: relative;background-color: white;}#sk-container-id-6 div.sk-parallel-item:first-child::after {align-self: flex-end;width: 50%;}#sk-container-id-6 div.sk-parallel-item:last-child::after {align-self: flex-start;width: 50%;}#sk-container-id-6 div.sk-parallel-item:only-child::after {width: 0;}#sk-container-id-6 div.sk-dashed-wrapped {border: 1px dashed gray;margin: 0 0.4em 0.5em 0.4em;box-sizing: border-box;padding-bottom: 0.4em;background-color: white;}#sk-container-id-6 div.sk-label label {font-family: monospace;font-weight: bold;display: inline-block;line-height: 1.2em;}#sk-container-id-6 div.sk-label-container {text-align: center;}#sk-container-id-6 div.sk-container {/* jupyter's `normalize.less` sets `[hidden] { display: none; }` but bootstrap.min.css set `[hidden] { display: none !important; }` so we also need the `!important` here to be able to override the default hidden behavior on the sphinx rendered scikit-learn.org. See: https://github.com/scikit-learn/scikit-learn/issues/21755 */display: inline-block !important;position: relative;}#sk-container-id-6 div.sk-text-repr-fallback {display: none;}</style><div id=\"sk-container-id-6\" class=\"sk-top-container\"><div class=\"sk-text-repr-fallback\"><pre>SVC(C=1, gamma=0.7, max_iter=10000)</pre><b>In a Jupyter environment, please rerun this cell to show the HTML representation or trust the notebook. <br />On GitHub, the HTML representation is unable to render, please try loading this page with nbviewer.org.</b></div><div class=\"sk-container\" hidden><div class=\"sk-item\"><div class=\"sk-estimator sk-toggleable\"><input class=\"sk-toggleable__control sk-hidden--visually\" id=\"sk-estimator-id-6\" type=\"checkbox\" checked><label for=\"sk-estimator-id-6\" class=\"sk-toggleable__label sk-toggleable__label-arrow\">SVC</label><div class=\"sk-toggleable__content\"><pre>SVC(C=1, gamma=0.7, max_iter=10000)</pre></div></div></div></div></div>"
      ],
      "text/plain": [
       "SVC(C=1, gamma=0.7, max_iter=10000)"
      ]
     },
     "execution_count": 42,
     "metadata": {},
     "output_type": "execute_result"
    }
   ],
   "source": [
    "# 모델 학습\n",
    "rbf_SVM.fit(X_train, y_train)"
   ]
  },
  {
   "cell_type": "code",
   "execution_count": 43,
   "metadata": {},
   "outputs": [],
   "source": [
    "# 예측값 확인\n",
    "y_pred_rbf = rbf_SVM.predict(X_test)"
   ]
  },
  {
   "cell_type": "code",
   "execution_count": 44,
   "metadata": {},
   "outputs": [
    {
     "name": "stdout",
     "output_type": "stream",
     "text": [
      "[[13  0  0]\n",
      " [ 0  6  0]\n",
      " [ 0  4  7]]\n",
      "0.8425925925925926\n"
     ]
    }
   ],
   "source": [
    "# Confusion Matrix 확인\n",
    "cm = confusion_matrix(y_test, y_pred_rbf)\n",
    "# f1 score\n",
    "f1 = f1_score(y_test, y_pred_rbf, average='macro')\n",
    "\n",
    "print(cm)\n",
    "print(f1)"
   ]
  },
  {
   "cell_type": "markdown",
   "metadata": {},
   "source": [
    "음... 결과가 Linear인 경우와 정확히 같습니다."
   ]
  },
  {
   "cell_type": "markdown",
   "metadata": {},
   "source": [
    "이번에는 Polynomial Basis Function을 사용해보겠습니다. 파라미터의 ```degree```는 차수를 의미합니다."
   ]
  },
  {
   "cell_type": "code",
   "execution_count": 45,
   "metadata": {},
   "outputs": [
    {
     "name": "stdout",
     "output_type": "stream",
     "text": [
      "[[13  0  0]\n",
      " [ 0  6  0]\n",
      " [ 0  4  7]]\n",
      "0.8425925925925926\n"
     ]
    }
   ],
   "source": [
    "# 모델 정의\n",
    "poly_SVM = svm.SVC(kernel = 'poly', degree = 3, gamma = 'auto', C=C, max_iter = 10000)\n",
    "\n",
    "# 모델 학습\n",
    "poly_SVM.fit(X_train, y_train)\n",
    "\n",
    "# 예측값 확인\n",
    "y_pred_poly = rbf_SVM.predict(X_test)\n",
    "\n",
    "# Confusion Matrix 확인\n",
    "cm = confusion_matrix(y_test, y_pred_poly)\n",
    "# f1 score\n",
    "f1 = f1_score(y_test, y_pred_poly, average='macro')\n",
    "\n",
    "print(cm)\n",
    "print(f1)"
   ]
  },
  {
   "cell_type": "markdown",
   "metadata": {},
   "source": [
    "#### 5-5. Visualize the result"
   ]
  },
  {
   "cell_type": "markdown",
   "metadata": {},
   "source": [
    "전체 데이터를 바탕으로 각각의 SVM 모델을 학습시킨 결과를 시각화하여 결정 결계를 확인해보자."
   ]
  },
  {
   "cell_type": "code",
   "execution_count": 46,
   "metadata": {},
   "outputs": [],
   "source": [
    "# 함수 정의\n",
    "def make_meshgrid(x, y, h=.02):\n",
    "    x_min, x_max = x.min() - 1, x.max() + 1\n",
    "    y_min, y_max = y.min() - 1, y.max() + 1\n",
    "    xx, yy = np.meshgrid(np.arange(x_min, x_max, h),\n",
    "                         np.arange(y_min, y_max, h))\n",
    "    return xx, yy\n",
    "\n",
    "\n",
    "def plot_contours(ax, clf, xx, yy, **params):\n",
    "    Z = clf.predict(np.c_[xx.ravel(), yy.ravel()])\n",
    "    Z = Z.reshape(xx.shape)\n",
    "    out = ax.contourf(xx, yy, Z, **params)\n",
    "    return out"
   ]
  },
  {
   "cell_type": "code",
   "execution_count": 47,
   "metadata": {},
   "outputs": [],
   "source": [
    "# 데이터 로드하기\n",
    "iris = load_iris()\n",
    "\n",
    "X = iris.data[:, :2]\n",
    "y = iris.target\n",
    "\n",
    "# 모델 정의&피팅\n",
    "C = 1.0\n",
    "models = (svm.SVC(kernel='linear', C=C),\n",
    "          svm.LinearSVC(C=C, max_iter=10000),\n",
    "          svm.SVC(kernel='rbf', gamma=0.7, C=C),\n",
    "          svm.SVC(kernel='poly', degree=3, gamma='auto', C=C))\n",
    "models = (clf.fit(X, y) for clf in models)"
   ]
  },
  {
   "cell_type": "code",
   "execution_count": 48,
   "metadata": {},
   "outputs": [],
   "source": [
    "# plot title 형성\n",
    "titles = ('SVC with linear kernel',\n",
    "          'LinearSVC (linear kernel)',\n",
    "          'SVC with RBF kernel',\n",
    "          'SVC with polynomial (degree 3) kernel')"
   ]
  },
  {
   "cell_type": "code",
   "execution_count": 49,
   "metadata": {},
   "outputs": [
    {
     "data": {
      "image/png": "[encoded data removed]",
      "text/plain": [
       "<Figure size 640x480 with 4 Axes>"
      ]
     },
     "metadata": {},
     "output_type": "display_data"
    }
   ],
   "source": [
    "# plot 그리기\n",
    "fig, sub = plt.subplots(2, 2)\n",
    "plt.subplots_adjust(wspace=0.4, hspace=0.4)\n",
    "\n",
    "X0, X1 = X[:, 0], X[:, 1]\n",
    "xx, yy = make_meshgrid(X0, X1)\n",
    "\n",
    "for clf, title, ax in zip(models, titles, sub.flatten()):\n",
    "    plot_contours(ax, clf, xx, yy,\n",
    "                  cmap=plt.cm.coolwarm, alpha=0.8)\n",
    "    ax.scatter(X0, X1, c=y, cmap=plt.cm.coolwarm, s=20, edgecolors='k')\n",
    "    ax.set_xlim(xx.min(), xx.max())\n",
    "    ax.set_ylim(yy.min(), yy.max())\n",
    "    ax.set_xlabel('Sepal length')\n",
    "    ax.set_ylabel('Sepal width')\n",
    "    ax.set_xticks(())\n",
    "    ax.set_yticks(())\n",
    "    ax.set_title(title)\n",
    "\n",
    "plt.show()"
   ]
  },
  {
   "cell_type": "markdown",
   "metadata": {},
   "source": [
    "Plot을 보면 알 수 있듯이, 각 모델마다 결정경계가 다르다. 그래도 확인할 수 있는 것은 Linear한 모델(Support Vector Classifier)의 결정경계는 모두 직선이고, 비선형 모델(Support Vector Machine)의 경우, 비선형 결정경계를 보여준다. "
   ]
  },
  {
   "cell_type": "markdown",
   "metadata": {},
   "source": [
    "이렇게 SVM의 발전과 이론, 그리고 코드를 알아봤다. 시간은 오래 걸리지만 분류 성능이 워낙 좋기 때문에 앞으로 다양한 Task에서 사용해봐야겠습니다."
   ]
  },
  {
   "cell_type": "markdown",
   "metadata": {},
   "source": [
    "### 6. Reference"
   ]
  },
  {
   "cell_type": "markdown",
   "metadata": {},
   "source": [
    "SMV 이론\n",
    "- 김재직 교수님 통계적데이터마이닝(STA3014-01) 교안\n",
    "- https://m.blog.naver.com/jaehong7719/221928401297\n",
    "\n",
    "코드\n",
    "- https://todayisbetterthanyesterday.tistory.com/32\n",
    "- https://teddylee777.github.io/scikit-learn/scikit-learn-dataset/\n",
    "\n",
    "기타\n",
    "- https://kr.piliapp.com/emoji/list/"
   ]
  }
 ],
 "metadata": {
  "kernelspec": {
   "display_name": "tf",
   "language": "python",
   "name": "python3"
  },
  "language_info": {
   "codemirror_mode": {
    "name": "ipython",
    "version": 3
   },
   "file_extension": ".py",
   "mimetype": "text/x-python",
   "name": "python",
   "nbconvert_exporter": "python",
   "pygments_lexer": "ipython3",
   "version": "3.11.5"
  }
 },
 "nbformat": 4,
 "nbformat_minor": 2
}
